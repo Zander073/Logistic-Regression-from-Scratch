{
  "nbformat": 4,
  "nbformat_minor": 0,
  "metadata": {
    "colab": {
      "provenance": [],
      "authorship_tag": "ABX9TyOjT6xjobAy4te5LKWwRR+h",
      "include_colab_link": true
    },
    "kernelspec": {
      "name": "python3",
      "display_name": "Python 3"
    },
    "language_info": {
      "name": "python"
    }
  },
  "cells": [
    {
      "cell_type": "markdown",
      "metadata": {
        "id": "view-in-github",
        "colab_type": "text"
      },
      "source": [
        "<a href=\"https://colab.research.google.com/github/Zander073/Logistic-Regression-from-Scratch/blob/main/Logistic_Regression_from_Scratch.ipynb\" target=\"_parent\"><img src=\"https://colab.research.google.com/assets/colab-badge.svg\" alt=\"Open In Colab\"/></a>"
      ]
    },
    {
      "cell_type": "code",
      "execution_count": null,
      "metadata": {
        "id": "He9e_sNzoDFi"
      },
      "outputs": [],
      "source": [
        "import numpy as np\n",
        "import math"
      ]
    },
    {
      "cell_type": "markdown",
      "source": [
        "Logistic regression is a probabilistic based classification model. The model determines some probability of an input being some class and assigns the class based on its relative probability of being in that class. \n",
        "\n",
        "\n",
        "\n",
        "Given two possible classifications $0$ and $1$, our LR model will assign some input $x$ with the following rule:\n",
        "\n",
        "Assign 1 if $P(y=1|x,Θ) > 0.5$ and assign $0$ otherwise where  $\\Theta$ is a set of parameters. The parameters of our model will be the trained weights and bias. \n",
        "\n",
        "\n",
        "Because we always want the probability to range from 0 to 1, we use a sigmoid function: $σ(z)=1/(1+e^{-z})$ where  $z=w.T*X+b$\n",
        "\n",
        "The sigmoid function ensures that the output will be within 0 and 1 because:\n",
        "\n",
        "$\\lim_{z \\to ∞} σ(z) = 1$\n",
        "\n",
        "$\\lim_{z \\to -∞} σ(z) = 0$\n",
        "\n",
        "![sigmoid graph.png](data:image/png;base64,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)\n",
        "\n",
        "We then say our hypothesis (y-hat) is equal to the sigmoid of our activation:\n",
        "\n",
        "$\\hat{y}=σ(z)$ where  $z=w.T*X + b$"
      ],
      "metadata": {
        "id": "2KbPEvxeoJcG"
      }
    },
    {
      "cell_type": "code",
      "source": [
        "# Summation function:\n",
        "def summation(w, X, b):\n",
        "  \"\"\"\n",
        "  w: Numpy array of weights with size (n x 1)\n",
        "  X: Numpy array of inputs with size (m x n)\n",
        "  b: Bias scalar as a real number\n",
        "\n",
        "  returns: Summation between inputs, weights, and bias\n",
        "  \"\"\"\n",
        "  return np.dot(w.T, X) + b\n",
        "\n",
        "# Sigmoid function:\n",
        "def sigmoid(z):\n",
        "  \"\"\"\n",
        "  z: Numpy array dot product of weights and inputs plus bias\n",
        "\n",
        "  returns: sigmoid ranging from 0 to 1\n",
        "  \"\"\"\n",
        "  return 1 / (1 + np.exp(-z))"
      ],
      "metadata": {
        "id": "EPlpJdiZtmXA"
      },
      "execution_count": null,
      "outputs": []
    },
    {
      "cell_type": "markdown",
      "source": [
        "Because our model produces a hypothesis $\\hat{y}$, to improve our model's accuracy, we have compute the loss between our hypothesis and the groundtruth value $y$. This is known as the Binary Cross Entropy Loss function (log-loss): $J(w,b)=L(\\hat{y}, y)$\n",
        "\n",
        "Where $L(\\hat{y}, y) = \\frac{-1}{m}\\sum_{i=1}^{m}[(y^{(i)})log(\\hat{y}^{(i)})+(1-y^{(i)})log(1-\\hat{y}^{(i)})]$\n",
        "\n",
        "The outout of the loss is a simple average of the differences between each hypothesis and its relative groundtruth value."
      ],
      "metadata": {
        "id": "EyroMKmbw3Zq"
      }
    },
    {
      "cell_type": "code",
      "source": [
        "def loss(y_hat, y):\n",
        "  loss = -np.mean(y * (np.log(y_hat)) - (1 - y) * np.log(1 - y_hat))\n",
        "  return loss"
      ],
      "metadata": {
        "id": "a3IFec7A0y9y"
      },
      "execution_count": null,
      "outputs": []
    },
    {
      "cell_type": "markdown",
      "source": [
        "Now to actually utilize the loss function to improve our model's parameters, we have to use Gradient Descent. Since the Loss function is a three dimensional convex function, we can take the partial derivative of our loss function, $J(w,b)$ with respect to $w$ and with respect to $b$. Using these partial derivatives, we can step towards the optimal set of parameters (the apex of the convex). \n",
        "\n",
        "After taking each respective partial derivative, you're left with:\n",
        "\n",
        "$dw=\\frac{1}{m}\\sum_{i=1}^{m}((\\hat{y}^{(i)}-y^{(i)}) * x^{(i)})$\n",
        "\n",
        "$db=\\frac{1}{m}\\sum_{i=1}^{m}(\\hat{y}^{(i)}-y^{(i)})$ "
      ],
      "metadata": {
        "id": "jJD2PVrKYgiz"
      }
    },
    {
      "cell_type": "code",
      "source": [
        "def gradients(X, y_hat, y):\n",
        "  m = X.shape[0]\n",
        "  dw = (1 / m) * np.dot(X.T, (y_hat - y))\n",
        "  db = (1 / m) * np.sum((y_hat - y))\n",
        "  return dw, db\n",
        "\n",
        "def normalize(X):\n",
        "  m, n= X.shape\n",
        "  for i in range(n):\n",
        "    X = (X - X.mean(axis=0))/X.std(axis=0)\n",
        "  return X\n",
        "\n",
        "def train(X, y, bs, epochs, alpha):\n",
        "  m, n = X.shape\n",
        "  w = np.zeros((n,1))\n",
        "  b = 0\n",
        "\n",
        "  y = y.reshape(m,1)\n",
        "  x = normalize(X)\n",
        "\n",
        "  losses = []\n",
        "\n",
        "  for epoch in range(epochs):\n",
        "    for i in range((m - 1) // bs + 1):\n",
        "      start_i = i*bs\n",
        "      end_i = start_i + bs\n",
        "      xb = X[start_i:end_i]\n",
        "      yb = y[start_i:end_i]\n"
      ],
      "metadata": {
        "id": "nfFOR9Usa-WM"
      },
      "execution_count": null,
      "outputs": []
    }
  ]
}